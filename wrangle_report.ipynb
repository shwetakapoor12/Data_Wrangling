{
 "cells": [
  {
   "cell_type": "markdown",
   "metadata": {},
   "source": [
    "# Report\n",
    "\n",
    "## 1. Gather\n",
    " Data is collected from three different sources:\n",
    " \n",
    " Already given file \"twitter_archived_enchanced.csv\" which contains all the major data such as breed, name, tweet_id and tweet text.\n",
    " \n",
    " Tweet image prediction file \"image_prediction_tsv\" is the output of breed of dog present in each tweet according to a neural network which can be requested or can be downloaded programmatically.\n",
    " \n",
    " We nedd to collect favorites and retweets using Python's Tweepy library using tweet_id and extracted data needs to saved in JSON which later converted to dataframe."
   ]
  },
  {
   "cell_type": "markdown",
   "metadata": {},
   "source": [
    "# 2. Assess\n",
    " Using pandas info function we assessed the data and came to conclude few things like:\n",
    " \n",
    " There is need to merge all three datasets to see the data in totality\n",
    " \n",
    " Timestamp should be date time format instead of object\n",
    " \n",
    " There were lot of unnecessary columns present in dataframe which eventually has to be removed.\n",
    " \n",
    " Numerator ratings does not have appropriate values esp float ratings like 4.5 or 3.75 are not captured properly.\n",
    " \n",
    " Denominator ratings does not have appropriate values like 0.\n",
    " \n",
    " Name of dogs are not captured properly most of the values are 'a' which is not a valid Dog name.\n",
    " \n",
    " Archive Dataframe contains 2356 rows whereas images has only 2075.\n",
    " \n",
    " In few columns, null values are not treated as null value "
   ]
  },
  {
   "cell_type": "markdown",
   "metadata": {},
   "source": [
    "# 3. Clean\n",
    "\n",
    "Timsetamp converted in date_time format\n",
    "\n",
    "All the retweets and favorites needs to deleted so that dataset should be equal number of rows\n",
    "\n",
    "Name of Dogs are not captured properly most of the names were \"a\" so we need to again extract all the names from text\n",
    "\n",
    "Dogs breed are in multiple columns with multiple probabilities so we need to condensed in one column\n",
    "\n",
    "Need to drop all the unnecessary columns \n",
    "\n",
    "Ratings numerator was need to be extracted again as most of the decimal ratings was not captured properly\n",
    "\n",
    "Ratings denominator also needed to be extracted again as most of the values were unusual.\n"
   ]
  },
  {
   "cell_type": "code",
   "execution_count": null,
   "metadata": {},
   "outputs": [],
   "source": []
  }
 ],
 "metadata": {
  "kernelspec": {
   "display_name": "Python 3",
   "language": "python",
   "name": "python3"
  },
  "language_info": {
   "codemirror_mode": {
    "name": "ipython",
    "version": 3
   },
   "file_extension": ".py",
   "mimetype": "text/x-python",
   "name": "python",
   "nbconvert_exporter": "python",
   "pygments_lexer": "ipython3",
   "version": "3.6.8"
  }
 },
 "nbformat": 4,
 "nbformat_minor": 2
}
